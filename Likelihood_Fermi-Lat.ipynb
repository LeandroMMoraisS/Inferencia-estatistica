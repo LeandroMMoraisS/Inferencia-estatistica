{
 "cells": [
  {
   "cell_type": "code",
   "execution_count": 42,
   "id": "7fe24e04",
   "metadata": {},
   "outputs": [],
   "source": [
    "import numpy as np\n",
    "import matplotlib.pyplot as plt\n",
    "from scipy.stats import poisson\n",
    "from scipy.optimize import minimize\n"
   ]
  },
  {
   "cell_type": "markdown",
   "id": "12839dc1",
   "metadata": {},
   "source": [
    "O Problema é o seguinte, eu tenho dados que se distribui como uma distribuição poissônica mas eu não sei qual o parametro estatístico que modela tal destribuição. Então primeiro vamos estimar esse parametro."
   ]
  },
  {
   "cell_type": "code",
   "execution_count": 32,
   "id": "89d89abb",
   "metadata": {},
   "outputs": [],
   "source": [
    "# Para o fim, vou criar um parametro lambda que depende de duas variaveis x e y\n",
    "\n",
    "def lambda_function (x,y):\n",
    "    return 2*x+y\n"
   ]
  },
  {
   "cell_type": "code",
   "execution_count": 33,
   "id": "a54ede2a",
   "metadata": {},
   "outputs": [],
   "source": [
    "# Vou criar um valor verdadeiro para o parametro, para conseguir gerar uma distribuição aleatoria de dados\n",
    "\n",
    "mu_true = lamb(2,0.5)  # Valor verdadeiro do parâmetro mu\n",
    "N = 50000  # Número de dados\n",
    "data = np.random.poisson(mu_true, N)  # Dados Poisson\n"
   ]
  },
  {
   "cell_type": "code",
   "execution_count": 35,
   "id": "5a5ffa6f",
   "metadata": {},
   "outputs": [
    {
     "data": {
      "text/plain": [
       "(array([3.090e+03, 5.721e+03, 8.356e+03, 9.374e+03, 8.477e+03, 6.424e+03,\n",
       "        4.170e+03, 2.303e+03, 1.746e+03, 2.190e+02, 7.900e+01, 2.800e+01,\n",
       "        8.000e+00, 3.000e+00, 1.000e+00, 1.000e+00]),\n",
       " array([ 0.   ,  1.125,  2.25 ,  3.375,  4.5  ,  5.625,  6.75 ,  7.875,\n",
       "         9.   , 10.125, 11.25 , 12.375, 13.5  , 14.625, 15.75 , 16.875,\n",
       "        18.   ]),\n",
       " <BarContainer object of 16 artists>)"
      ]
     },
     "execution_count": 35,
     "metadata": {},
     "output_type": "execute_result"
    },
    {
     "data": {
      "image/png": "[encoded data removed]",
      "text/plain": [
       "<Figure size 640x480 with 1 Axes>"
      ]
     },
     "metadata": {},
     "output_type": "display_data"
    }
   ],
   "source": [
    "plt.hist(data,bins=16)"
   ]
  },
  {
   "cell_type": "markdown",
   "id": "63a910fb",
   "metadata": {},
   "source": [
    "Do projeto anterior, ja sabemos estimar o parametro lambda utilizando o nosso código anterior [Estimando Parametro da distribuição de Poisson](https://github.com/LeandroMatheumatical/Inferencia-estatistica/blob/main/Likelihood_Estimation_PoissonDistribution.ipynb), agora estamos interessados em estimar as componentes do lambda e é isso que vamos fazer agora"
   ]
  },
  {
   "cell_type": "code",
   "execution_count": 75,
   "id": "04df7d4e",
   "metadata": {},
   "outputs": [],
   "source": [
    "def neg_log_likelihood(theta, data, fixed_theta):\n",
    "    mu = lamb(theta[0], fixed_theta)\n",
    "    return -np.sum(np.log(poisson.pmf(data, mu)))"
   ]
  },
  {
   "cell_type": "code",
   "execution_count": 76,
   "id": "a9f4abc3",
   "metadata": {},
   "outputs": [],
   "source": [
    "theta_vec = np.array([2,0.5])"
   ]
  },
  {
   "cell_type": "code",
   "execution_count": 77,
   "id": "6c05be31",
   "metadata": {},
   "outputs": [],
   "source": [
    "fixed_theta= 0.5"
   ]
  },
  {
   "cell_type": "code",
   "execution_count": 78,
   "id": "32c450f8",
   "metadata": {},
   "outputs": [],
   "source": [
    "result = minimize(neg_log_likelihood, x0=[1], args=(data, fixed_theta), method='BFGS')"
   ]
  },
  {
   "cell_type": "code",
   "execution_count": 79,
   "id": "386dd9cf",
   "metadata": {},
   "outputs": [
    {
     "data": {
      "text/plain": [
       "      fun: 107799.21721136814\n",
       " hess_inv: array([[2.2633466e-05]])\n",
       "      jac: array([-0.00195312])\n",
       "  message: 'Desired error not necessarily achieved due to precision loss.'\n",
       "     nfev: 66\n",
       "      nit: 4\n",
       "     njev: 30\n",
       "   status: 2\n",
       "  success: False\n",
       "        x: array([2.00197007])"
      ]
     },
     "execution_count": 79,
     "metadata": {},
     "output_type": "execute_result"
    }
   ],
   "source": [
    "result"
   ]
  }
 ],
 "metadata": {
  "kernelspec": {
   "display_name": "Python 3 (ipykernel)",
   "language": "python",
   "name": "python3"
  },
  "language_info": {
   "codemirror_mode": {
    "name": "ipython",
    "version": 3
   },
   "file_extension": ".py",
   "mimetype": "text/x-python",
   "name": "python",
   "nbconvert_exporter": "python",
   "pygments_lexer": "ipython3",
   "version": "3.9.15"
  }
 },
 "nbformat": 4,
 "nbformat_minor": 5
}
